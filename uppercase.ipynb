{
 "cells": [
  {
   "cell_type": "code",
   "execution_count": null,
   "metadata": {},
   "outputs": [],
   "source": [
    "import upper\n",
    "\n",
    "hasil_upper = upper.cek_upper('BEsAR')\n",
    "print (\"Hasil :\",hasil_upper)"
   ]
  }
 ],
 "metadata": {
  "language_info": {
   "name": "python"
  }
 },
 "nbformat": 4,
 "nbformat_minor": 2
}
